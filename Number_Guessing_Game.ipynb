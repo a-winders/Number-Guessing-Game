{
  "nbformat": 4,
  "nbformat_minor": 0,
  "metadata": {
    "colab": {
      "provenance": [],
      "authorship_tag": "ABX9TyORqm5INkrvFrR/lrPjoI1i",
      "include_colab_link": true
    },
    "kernelspec": {
      "name": "python3",
      "display_name": "Python 3"
    },
    "language_info": {
      "name": "python"
    }
  },
  "cells": [
    {
      "cell_type": "markdown",
      "metadata": {
        "id": "view-in-github",
        "colab_type": "text"
      },
      "source": [
        "<a href=\"https://colab.research.google.com/github/a-winders/Number-Guessing-Game/blob/main/Number_Guessing_Game.ipynb\" target=\"_parent\"><img src=\"https://colab.research.google.com/assets/colab-badge.svg\" alt=\"Open In Colab\"/></a>"
      ]
    },
    {
      "cell_type": "code",
      "execution_count": 6,
      "metadata": {
        "id": "R9eIbrPTTAWI"
      },
      "outputs": [],
      "source": [
        "import random\n",
        "import math"
      ]
    },
    {
      "cell_type": "code",
      "source": [
        "# Grabs input\n",
        "minimum = int(input(\"Enter a minimum number: \"))\n",
        "\n",
        "# Grabs input\n",
        "maximum = int(input(\"Enter a maximum number: \"))"
      ],
      "metadata": {
        "colab": {
          "base_uri": "https://localhost:8080/"
        },
        "id": "8JJtipxMTDrv",
        "outputId": "7cd0b30e-98d3-4fda-896b-5e5a24843f5e"
      },
      "execution_count": 7,
      "outputs": [
        {
          "name": "stdout",
          "output_type": "stream",
          "text": [
            "Enter a minimum number: 50\n",
            "Enter a maximum number: 100\n"
          ]
        }
      ]
    },
    {
      "cell_type": "code",
      "source": [
        "# Generates random number between minimum and maximum number\n",
        "x = random.randint(minimum, maximum)\n",
        "print(\"\\n You only have \", round(math.log(maximum - minimum + 1, 2)), \"chances to guess the number.\\n\")\n",
        "# Initializes the number of guesses starting at 0\n",
        "count = 0\n",
        "\n",
        "while count < math.log(maximum - minimum + 1, 2):\n",
        "    count += 1\n",
        "\n",
        "    # Grabs guess number input\n",
        "    guess = int(input(\"Guess a number: \"))\n",
        "\n",
        "    # Tests to see if number was guessed correctly\n",
        "    if x == guess:\n",
        "        print(\"Congrats! You guessed correctly in \", count, \"tries.\")\n",
        "\n",
        "        # Loop breaks if number is guessed correctly\n",
        "        break\n",
        "    elif x > guess:\n",
        "        print(\"Wrong - try again. Guess a higher number.\")\n",
        "    elif x < guess:\n",
        "        print(\"Wrong - try again. Guess a lower number.\")\n",
        "\n",
        "# If guess attempts are exceeded, shows number.\n",
        "if count >= math.log(maximum - minimum + 1, 2):\n",
        "    print(\"\\n The number was %d\" % x)"
      ],
      "metadata": {
        "colab": {
          "base_uri": "https://localhost:8080/"
        },
        "id": "olftJFlBTVSj",
        "outputId": "0a261bb0-764a-48a5-c7f3-f39ead0bed36"
      },
      "execution_count": 8,
      "outputs": [
        {
          "output_type": "stream",
          "name": "stdout",
          "text": [
            "\n",
            " You only have  6 chances to guess the number.\n",
            "\n",
            "Guess a number: 64\n",
            "Wrong - try again. Guess a higher number.\n",
            "Guess a number: 75\n",
            "Wrong - try again. Guess a lower number.\n",
            "Guess a number: 70\n",
            "Wrong - try again. Guess a lower number.\n",
            "Guess a number: 67\n",
            "Wrong - try again. Guess a lower number.\n",
            "Guess a number: 66\n",
            "Wrong - try again. Guess a lower number.\n",
            "Guess a number: 65\n",
            "Congrats! You guessed correctly in  6 tries.\n",
            "\n",
            " The number was 65\n"
          ]
        }
      ]
    }
  ]
}